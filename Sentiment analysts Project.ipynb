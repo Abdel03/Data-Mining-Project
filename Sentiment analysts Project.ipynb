{
 "cells": [
  {
   "cell_type": "markdown",
   "id": "4bc8f4e3",
   "metadata": {},
   "source": [
    "# CSCI 39543 Project: Reviews Sentiment Analysis\n"
   ]
  },
  {
   "cell_type": "markdown",
   "id": "e0f4f7f2",
   "metadata": {},
   "source": [
    "## 1. Collecting Data"
   ]
  },
  {
   "cell_type": "markdown",
   "id": "38fc3f8f",
   "metadata": {},
   "source": [
    "### 1.1 Dataset Title: \n",
    "\n",
    "    amazon_reviews Data_Set\n",
    "    \n",
    "### 1.2 Dataset Description:\n",
    "    \n",
    "    This dataset contains more than 568k consumer reviews on different products. This data can be used to improve customer experience, optimize product offerings, and identify areas of improvement. The data includes customer reviews, ratings, and other related information. It can also include customer demographics, purchase history, and other related data."
   ]
  },
  {
   "cell_type": "markdown",
   "id": "1c3ad41f",
   "metadata": {},
   "source": [
    "### 1.3 Project Objective:\n",
    "    The objective of this project is to find various trends and patterns and create useful insights for the best quality product. We must determine whether the review is favorable or unfavorable. A grade of four or five might be seen as a positive review, one or two as a negative review, and three as neutral. This is an approximate and proxy way of determining the polarity (positivity/negativity) of a review."
   ]
  },
  {
   "cell_type": "markdown",
   "id": "3e4f670c",
   "metadata": {},
   "source": [
    "## 2. Exploratory Data Analysis (EDA):"
   ]
  },
  {
   "cell_type": "markdown",
   "id": "a88b178c",
   "metadata": {},
   "source": [
    "### 2.1 Data:"
   ]
  },
  {
   "cell_type": "code",
   "execution_count": 40,
   "id": "b8a1d58d",
   "metadata": {},
   "outputs": [],
   "source": [
    "# Importing necessary libraries\n",
    "import pandas as pd\n",
    "import numpy as np"
   ]
  },
  {
   "cell_type": "code",
   "execution_count": 46,
   "id": "21d527f3",
   "metadata": {},
   "outputs": [],
   "source": [
    "df = pd.read_csv('amazon_reviews.tsv', sep='\\t', quoting = 3)"
   ]
  },
  {
   "cell_type": "code",
   "execution_count": 47,
   "id": "ef8bfdc4",
   "metadata": {},
   "outputs": [
    {
     "data": {
      "text/html": [
       "<div>\n",
       "<style scoped>\n",
       "    .dataframe tbody tr th:only-of-type {\n",
       "        vertical-align: middle;\n",
       "    }\n",
       "\n",
       "    .dataframe tbody tr th {\n",
       "        vertical-align: top;\n",
       "    }\n",
       "\n",
       "    .dataframe thead th {\n",
       "        text-align: right;\n",
       "    }\n",
       "</style>\n",
       "<table border=\"1\" class=\"dataframe\">\n",
       "  <thead>\n",
       "    <tr style=\"text-align: right;\">\n",
       "      <th></th>\n",
       "      <th>marketplace</th>\n",
       "      <th>customer_id</th>\n",
       "      <th>review_id</th>\n",
       "      <th>product_id</th>\n",
       "      <th>product_parent</th>\n",
       "      <th>product_title</th>\n",
       "      <th>product_category</th>\n",
       "      <th>star_rating</th>\n",
       "      <th>helpful_votes</th>\n",
       "      <th>total_votes</th>\n",
       "      <th>vine</th>\n",
       "      <th>verified_purchase</th>\n",
       "      <th>review_headline</th>\n",
       "      <th>review_body</th>\n",
       "      <th>review_date</th>\n",
       "    </tr>\n",
       "  </thead>\n",
       "  <tbody>\n",
       "    <tr>\n",
       "      <th>0</th>\n",
       "      <td>US</td>\n",
       "      <td>53096384</td>\n",
       "      <td>R63J84G1LOX6R</td>\n",
       "      <td>1563890119</td>\n",
       "      <td>763187671</td>\n",
       "      <td>The Sandman Vol. 1: Preludes and Nocturnes</td>\n",
       "      <td>Books</td>\n",
       "      <td>4</td>\n",
       "      <td>0</td>\n",
       "      <td>1</td>\n",
       "      <td>N</td>\n",
       "      <td>N</td>\n",
       "      <td>ignore the review below</td>\n",
       "      <td>this is the first 8 issues of the series. it i...</td>\n",
       "      <td>1995-08-13</td>\n",
       "    </tr>\n",
       "    <tr>\n",
       "      <th>1</th>\n",
       "      <td>US</td>\n",
       "      <td>53096399</td>\n",
       "      <td>R1BALOA11Z06MT</td>\n",
       "      <td>1559947608</td>\n",
       "      <td>381720534</td>\n",
       "      <td>The 22 Immutable Laws of Marketing</td>\n",
       "      <td>Books</td>\n",
       "      <td>4</td>\n",
       "      <td>0</td>\n",
       "      <td>0</td>\n",
       "      <td>N</td>\n",
       "      <td>N</td>\n",
       "      <td>awesome</td>\n",
       "      <td>I've always been partial to immutable laws. Th...</td>\n",
       "      <td>1995-08-17</td>\n",
       "    </tr>\n",
       "    <tr>\n",
       "      <th>2</th>\n",
       "      <td>US</td>\n",
       "      <td>53096332</td>\n",
       "      <td>R1LLAY5W5PZUS4</td>\n",
       "      <td>0671701800</td>\n",
       "      <td>860650224</td>\n",
       "      <td>Contact</td>\n",
       "      <td>Books</td>\n",
       "      <td>5</td>\n",
       "      <td>1</td>\n",
       "      <td>2</td>\n",
       "      <td>N</td>\n",
       "      <td>N</td>\n",
       "      <td>Read the book. It's good.</td>\n",
       "      <td>This is a book about first contact with aliens...</td>\n",
       "      <td>1995-08-30</td>\n",
       "    </tr>\n",
       "    <tr>\n",
       "      <th>3</th>\n",
       "      <td>US</td>\n",
       "      <td>53096335</td>\n",
       "      <td>R3R9VTJ82FXECQ</td>\n",
       "      <td>0425132153</td>\n",
       "      <td>624269601</td>\n",
       "      <td>Good Omens</td>\n",
       "      <td>Books</td>\n",
       "      <td>5</td>\n",
       "      <td>0</td>\n",
       "      <td>0</td>\n",
       "      <td>N</td>\n",
       "      <td>N</td>\n",
       "      <td>Funniest book ever written about the Anti-Christ</td>\n",
       "      <td>This is quite possibly *the* funniest book I h...</td>\n",
       "      <td>1995-09-11</td>\n",
       "    </tr>\n",
       "    <tr>\n",
       "      <th>4</th>\n",
       "      <td>US</td>\n",
       "      <td>51747709</td>\n",
       "      <td>R1P5J3FNBWTFXY</td>\n",
       "      <td>0517122707</td>\n",
       "      <td>161411385</td>\n",
       "      <td>A Confederacy of Dunces</td>\n",
       "      <td>Books</td>\n",
       "      <td>5</td>\n",
       "      <td>0</td>\n",
       "      <td>0</td>\n",
       "      <td>N</td>\n",
       "      <td>N</td>\n",
       "      <td>A winner that didn't last. Only a mothers love...</td>\n",
       "      <td>The story behind the book is almost better tha...</td>\n",
       "      <td>1995-10-17</td>\n",
       "    </tr>\n",
       "    <tr>\n",
       "      <th>...</th>\n",
       "      <td>...</td>\n",
       "      <td>...</td>\n",
       "      <td>...</td>\n",
       "      <td>...</td>\n",
       "      <td>...</td>\n",
       "      <td>...</td>\n",
       "      <td>...</td>\n",
       "      <td>...</td>\n",
       "      <td>...</td>\n",
       "      <td>...</td>\n",
       "      <td>...</td>\n",
       "      <td>...</td>\n",
       "      <td>...</td>\n",
       "      <td>...</td>\n",
       "      <td>...</td>\n",
       "    </tr>\n",
       "    <tr>\n",
       "      <th>6931161</th>\n",
       "      <td>US</td>\n",
       "      <td>52303</td>\n",
       "      <td>R16DAHIWNXFOYI</td>\n",
       "      <td>B00QW8TYWO</td>\n",
       "      <td>828652896</td>\n",
       "      <td>Crossy Road</td>\n",
       "      <td>Mobile_Apps</td>\n",
       "      <td>5</td>\n",
       "      <td>0</td>\n",
       "      <td>0</td>\n",
       "      <td>N</td>\n",
       "      <td>Y</td>\n",
       "      <td>Five Stars</td>\n",
       "      <td>very fun game</td>\n",
       "      <td>2015-08-31</td>\n",
       "    </tr>\n",
       "    <tr>\n",
       "      <th>6931162</th>\n",
       "      <td>US</td>\n",
       "      <td>565563</td>\n",
       "      <td>R1DS6EBGAEJDB5</td>\n",
       "      <td>B00PSLQYWE</td>\n",
       "      <td>156264553</td>\n",
       "      <td>Downton Abbey Season 5</td>\n",
       "      <td>Digital_Video_Download</td>\n",
       "      <td>5</td>\n",
       "      <td>0</td>\n",
       "      <td>0</td>\n",
       "      <td>N</td>\n",
       "      <td>Y</td>\n",
       "      <td>Five Stars</td>\n",
       "      <td>Great</td>\n",
       "      <td>2015-08-31</td>\n",
       "    </tr>\n",
       "    <tr>\n",
       "      <th>6931163</th>\n",
       "      <td>US</td>\n",
       "      <td>254421</td>\n",
       "      <td>R3HEHT8JUA33VW</td>\n",
       "      <td>B000FC1LOC</td>\n",
       "      <td>354573823</td>\n",
       "      <td>My Sister's Keeper: A Novel (Wsp Readers Club)</td>\n",
       "      <td>Digital_Ebook_Purchase</td>\n",
       "      <td>5</td>\n",
       "      <td>0</td>\n",
       "      <td>0</td>\n",
       "      <td>N</td>\n",
       "      <td>N</td>\n",
       "      <td>and she has beautifully written and explored t...</td>\n",
       "      <td>This is my first book from Jodi, and she has b...</td>\n",
       "      <td>2015-08-31</td>\n",
       "    </tr>\n",
       "    <tr>\n",
       "      <th>6931164</th>\n",
       "      <td>US</td>\n",
       "      <td>146004</td>\n",
       "      <td>RVK4I33L93536</td>\n",
       "      <td>B008T4HHWS</td>\n",
       "      <td>599809487</td>\n",
       "      <td>Scent of a Woman</td>\n",
       "      <td>Digital_Video_Download</td>\n",
       "      <td>5</td>\n",
       "      <td>0</td>\n",
       "      <td>0</td>\n",
       "      <td>N</td>\n",
       "      <td>N</td>\n",
       "      <td>Like this!</td>\n",
       "      <td>Good movie!</td>\n",
       "      <td>2015-08-31</td>\n",
       "    </tr>\n",
       "    <tr>\n",
       "      <th>6931165</th>\n",
       "      <td>US</td>\n",
       "      <td>146004</td>\n",
       "      <td>RLKW9OJ9943DY</td>\n",
       "      <td>B00HY7VU60</td>\n",
       "      <td>592331046</td>\n",
       "      <td>The White Queen, Season 1</td>\n",
       "      <td>Digital_Video_Download</td>\n",
       "      <td>5</td>\n",
       "      <td>0</td>\n",
       "      <td>1</td>\n",
       "      <td>N</td>\n",
       "      <td>N</td>\n",
       "      <td>Wonderful show!</td>\n",
       "      <td>Amazing show that runs close to history. Love ...</td>\n",
       "      <td>2015-08-31</td>\n",
       "    </tr>\n",
       "  </tbody>\n",
       "</table>\n",
       "<p>6931166 rows × 15 columns</p>\n",
       "</div>"
      ],
      "text/plain": [
       "        marketplace  customer_id       review_id  product_id  product_parent  \\\n",
       "0                US     53096384   R63J84G1LOX6R  1563890119       763187671   \n",
       "1                US     53096399  R1BALOA11Z06MT  1559947608       381720534   \n",
       "2                US     53096332  R1LLAY5W5PZUS4  0671701800       860650224   \n",
       "3                US     53096335  R3R9VTJ82FXECQ  0425132153       624269601   \n",
       "4                US     51747709  R1P5J3FNBWTFXY  0517122707       161411385   \n",
       "...             ...          ...             ...         ...             ...   \n",
       "6931161          US        52303  R16DAHIWNXFOYI  B00QW8TYWO       828652896   \n",
       "6931162          US       565563  R1DS6EBGAEJDB5  B00PSLQYWE       156264553   \n",
       "6931163          US       254421  R3HEHT8JUA33VW  B000FC1LOC       354573823   \n",
       "6931164          US       146004   RVK4I33L93536  B008T4HHWS       599809487   \n",
       "6931165          US       146004   RLKW9OJ9943DY  B00HY7VU60       592331046   \n",
       "\n",
       "                                          product_title  \\\n",
       "0            The Sandman Vol. 1: Preludes and Nocturnes   \n",
       "1                    The 22 Immutable Laws of Marketing   \n",
       "2                                               Contact   \n",
       "3                                            Good Omens   \n",
       "4                               A Confederacy of Dunces   \n",
       "...                                                 ...   \n",
       "6931161                                     Crossy Road   \n",
       "6931162                          Downton Abbey Season 5   \n",
       "6931163  My Sister's Keeper: A Novel (Wsp Readers Club)   \n",
       "6931164                                Scent of a Woman   \n",
       "6931165                       The White Queen, Season 1   \n",
       "\n",
       "               product_category  star_rating  helpful_votes  total_votes vine  \\\n",
       "0                         Books            4              0            1    N   \n",
       "1                         Books            4              0            0    N   \n",
       "2                         Books            5              1            2    N   \n",
       "3                         Books            5              0            0    N   \n",
       "4                         Books            5              0            0    N   \n",
       "...                         ...          ...            ...          ...  ...   \n",
       "6931161             Mobile_Apps            5              0            0    N   \n",
       "6931162  Digital_Video_Download            5              0            0    N   \n",
       "6931163  Digital_Ebook_Purchase            5              0            0    N   \n",
       "6931164  Digital_Video_Download            5              0            0    N   \n",
       "6931165  Digital_Video_Download            5              0            1    N   \n",
       "\n",
       "        verified_purchase                                    review_headline  \\\n",
       "0                       N                            ignore the review below   \n",
       "1                       N                                            awesome   \n",
       "2                       N                          Read the book. It's good.   \n",
       "3                       N   Funniest book ever written about the Anti-Christ   \n",
       "4                       N  A winner that didn't last. Only a mothers love...   \n",
       "...                   ...                                                ...   \n",
       "6931161                 Y                                         Five Stars   \n",
       "6931162                 Y                                         Five Stars   \n",
       "6931163                 N  and she has beautifully written and explored t...   \n",
       "6931164                 N                                         Like this!   \n",
       "6931165                 N                                    Wonderful show!   \n",
       "\n",
       "                                               review_body review_date  \n",
       "0        this is the first 8 issues of the series. it i...  1995-08-13  \n",
       "1        I've always been partial to immutable laws. Th...  1995-08-17  \n",
       "2        This is a book about first contact with aliens...  1995-08-30  \n",
       "3        This is quite possibly *the* funniest book I h...  1995-09-11  \n",
       "4        The story behind the book is almost better tha...  1995-10-17  \n",
       "...                                                    ...         ...  \n",
       "6931161                                      very fun game  2015-08-31  \n",
       "6931162                                              Great  2015-08-31  \n",
       "6931163  This is my first book from Jodi, and she has b...  2015-08-31  \n",
       "6931164                                        Good movie!  2015-08-31  \n",
       "6931165  Amazing show that runs close to history. Love ...  2015-08-31  \n",
       "\n",
       "[6931166 rows x 15 columns]"
      ]
     },
     "execution_count": 47,
     "metadata": {},
     "output_type": "execute_result"
    }
   ],
   "source": [
    "df"
   ]
  },
  {
   "cell_type": "code",
   "execution_count": 48,
   "id": "e07b6852",
   "metadata": {},
   "outputs": [
    {
     "data": {
      "text/plain": [
       "(6931166, 15)"
      ]
     },
     "execution_count": 48,
     "metadata": {},
     "output_type": "execute_result"
    }
   ],
   "source": [
    "df.shape"
   ]
  },
  {
   "cell_type": "code",
   "execution_count": 49,
   "id": "35c32492",
   "metadata": {
    "scrolled": false
   },
   "outputs": [
    {
     "name": "stdout",
     "output_type": "stream",
     "text": [
      "<class 'pandas.core.frame.DataFrame'>\n",
      "RangeIndex: 6931166 entries, 0 to 6931165\n",
      "Data columns (total 15 columns):\n",
      " #   Column             Dtype \n",
      "---  ------             ----- \n",
      " 0   marketplace        object\n",
      " 1   customer_id        int64 \n",
      " 2   review_id          object\n",
      " 3   product_id         object\n",
      " 4   product_parent     int64 \n",
      " 5   product_title      object\n",
      " 6   product_category   object\n",
      " 7   star_rating        int64 \n",
      " 8   helpful_votes      int64 \n",
      " 9   total_votes        int64 \n",
      " 10  vine               object\n",
      " 11  verified_purchase  object\n",
      " 12  review_headline    object\n",
      " 13  review_body        object\n",
      " 14  review_date        object\n",
      "dtypes: int64(5), object(10)\n",
      "memory usage: 793.2+ MB\n"
     ]
    }
   ],
   "source": [
    "df.info()"
   ]
  },
  {
   "cell_type": "code",
   "execution_count": 50,
   "id": "42102b5e",
   "metadata": {},
   "outputs": [
    {
     "data": {
      "text/plain": [
       "Index(['marketplace', 'customer_id', 'review_id', 'product_id',\n",
       "       'product_parent', 'product_title', 'product_category', 'star_rating',\n",
       "       'helpful_votes', 'total_votes', 'vine', 'verified_purchase',\n",
       "       'review_headline', 'review_body', 'review_date'],\n",
       "      dtype='object')"
      ]
     },
     "execution_count": 50,
     "metadata": {},
     "output_type": "execute_result"
    }
   ],
   "source": [
    "df.columns"
   ]
  },
  {
   "cell_type": "code",
   "execution_count": 51,
   "id": "74cfd573",
   "metadata": {},
   "outputs": [
    {
     "data": {
      "text/plain": [
       "review_body          75\n",
       "review_headline      74\n",
       "marketplace           0\n",
       "customer_id           0\n",
       "review_id             0\n",
       "product_id            0\n",
       "product_parent        0\n",
       "product_title         0\n",
       "product_category      0\n",
       "star_rating           0\n",
       "helpful_votes         0\n",
       "total_votes           0\n",
       "vine                  0\n",
       "verified_purchase     0\n",
       "review_date           0\n",
       "dtype: int64"
      ]
     },
     "execution_count": 51,
     "metadata": {},
     "output_type": "execute_result"
    }
   ],
   "source": [
    "df.isna().sum().sort_values(ascending=False)"
   ]
  },
  {
   "cell_type": "markdown",
   "id": "a995ba92",
   "metadata": {},
   "source": [
    "## 2. Preprocessing the Data"
   ]
  },
  {
   "cell_type": "markdown",
   "id": "0c0d60c8",
   "metadata": {},
   "source": [
    "## 3. Labeling the Data"
   ]
  },
  {
   "cell_type": "markdown",
   "id": "39368cc6",
   "metadata": {},
   "source": [
    "## 4. Spliting the Data"
   ]
  }
 ],
 "metadata": {
  "kernelspec": {
   "display_name": "Python 3 (ipykernel)",
   "language": "python",
   "name": "python3"
  },
  "language_info": {
   "codemirror_mode": {
    "name": "ipython",
    "version": 3
   },
   "file_extension": ".py",
   "mimetype": "text/x-python",
   "name": "python",
   "nbconvert_exporter": "python",
   "pygments_lexer": "ipython3",
   "version": "3.9.13"
  }
 },
 "nbformat": 4,
 "nbformat_minor": 5
}
